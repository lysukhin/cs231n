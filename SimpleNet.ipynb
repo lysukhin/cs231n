{
 "cells": [
  {
   "cell_type": "markdown",
   "metadata": {},
   "source": [
    "Minimal forward- and backward- pass example for FC-network"
   ]
  },
  {
   "cell_type": "code",
   "execution_count": 1,
   "metadata": {
    "ExecuteTime": {
     "end_time": "2018-02-13T09:22:28.997063Z",
     "start_time": "2018-02-13T09:22:28.924146Z"
    }
   },
   "outputs": [],
   "source": [
    "import numpy as np"
   ]
  },
  {
   "cell_type": "code",
   "execution_count": 34,
   "metadata": {
    "ExecuteTime": {
     "end_time": "2018-02-13T09:38:15.812510Z",
     "start_time": "2018-02-13T09:38:15.798510Z"
    }
   },
   "outputs": [],
   "source": [
    "class Layer(object):\n",
    "    \"\"\"\n",
    "    Layers base class\n",
    "    \"\"\"\n",
    "    def __init__(self):\n",
    "        self.weights = {}\n",
    "        self.grads = {}\n",
    "    \n",
    "    def forward(self, X, y=None):\n",
    "        raise NotImplementedError\n",
    "    \n",
    "    def backward(self, grad):\n",
    "        raise NotImplementedError"
   ]
  },
  {
   "cell_type": "code",
   "execution_count": 35,
   "metadata": {
    "ExecuteTime": {
     "end_time": "2018-02-13T09:38:16.096854Z",
     "start_time": "2018-02-13T09:38:16.079665Z"
    }
   },
   "outputs": [],
   "source": [
    "class Linear(Layer):\n",
    "    \"\"\"\n",
    "    Linear layer: X -> X @ W + b\n",
    "    \"\"\"\n",
    "    \n",
    "    def __init__(self, n_inputs, n_outputs):\n",
    "        super(Linear, self).__init__()\n",
    "        self.weights['W'] = np.random.normal(size=(n_inputs, n_outputs))\n",
    "        self.weights['b'] = np.zeros(shape=(1, n_outputs))\n",
    "    \n",
    "    def forward(self, X, y=None):\n",
    "        self.X = X\n",
    "        return np.dot(X, self.weights['W']) + self.weights['b']\n",
    "    \n",
    "    def backward(self, grad):\n",
    "        self.grads['W'] = np.dot(self.X.T, grad)\n",
    "        self.grads['b'] = np.sum(grad, axis=0)\n",
    "        return np.dot(grad, self.weights['W'].T)"
   ]
  },
  {
   "cell_type": "code",
   "execution_count": 36,
   "metadata": {
    "ExecuteTime": {
     "end_time": "2018-02-13T09:38:16.336363Z",
     "start_time": "2018-02-13T09:38:16.327460Z"
    }
   },
   "outputs": [],
   "source": [
    "class ReLU(Layer):\n",
    "    \"\"\"\n",
    "    ReLU activation layer: X -> max(0, X)\n",
    "    \"\"\"\n",
    "    \n",
    "    def forward(self, X):\n",
    "        self.X = X\n",
    "        return np.maximum(0, X)\n",
    "    \n",
    "    def backward(self, grad):\n",
    "        mask = self.X < 0\n",
    "        grad[mask] = 0\n",
    "        return grad"
   ]
  },
  {
   "cell_type": "code",
   "execution_count": 50,
   "metadata": {
    "ExecuteTime": {
     "end_time": "2018-02-13T09:41:09.254759Z",
     "start_time": "2018-02-13T09:41:09.236099Z"
    }
   },
   "outputs": [],
   "source": [
    "class Sigmoid(Layer):\n",
    "    \"\"\"\n",
    "    Sigmoid activation layer: X -> 1 / (1 + exp(-X))\n",
    "    \"\"\"\n",
    "    \n",
    "    def forward(self, X):\n",
    "        self.X = X\n",
    "        self.S = 1. / (1. + np.exp(-X))\n",
    "        return self.S\n",
    "    \n",
    "    def backward(self, grad):\n",
    "        return grad * self.S * (1 - self.S) "
   ]
  },
  {
   "cell_type": "code",
   "execution_count": 79,
   "metadata": {
    "ExecuteTime": {
     "end_time": "2018-02-13T09:55:52.200708Z",
     "start_time": "2018-02-13T09:55:52.175076Z"
    }
   },
   "outputs": [],
   "source": [
    "class BCELoss:\n",
    "    \"\"\"\n",
    "    Binary cross-entropy layer: y, p -> - y * log(p) - (1 - y) * log(1 - p)\n",
    "    \"\"\"\n",
    "    \n",
    "    def forward(self, X, y=None):\n",
    "        self.X = X\n",
    "        self.y = y\n",
    "        return - np.sum(y * np.log(X) + (1 - y) * np.log(1 - X))\n",
    "    \n",
    "    def backward(self, grad=1.):\n",
    "        return - grad * ((self.y / self.X) - (1. - self.y) / (1. - self.X))"
   ]
  },
  {
   "cell_type": "code",
   "execution_count": 155,
   "metadata": {
    "ExecuteTime": {
     "end_time": "2018-02-13T10:08:16.737749Z",
     "start_time": "2018-02-13T10:08:16.656643Z"
    }
   },
   "outputs": [],
   "source": [
    "nn = [Linear(10, 20), ReLU(), Linear(20, 1), Sigmoid()]\n",
    "loss = BCELoss()\n",
    "\n",
    "X = np.random.normal(size=(50, 10))\n",
    "y = np.random.choice(a=[0,1], size=(50, 1))\n",
    "\n",
    "losses = []\n",
    "for ep in range(50):\n",
    "    x = X.copy()\n",
    "    \n",
    "    for layer in nn:\n",
    "        x = layer.forward(x)\n",
    "\n",
    "    loss_ = loss.forward(x, y)\n",
    "    grad = loss.backward()\n",
    "\n",
    "    for layer in reversed(nn):\n",
    "        grad = layer.backward(grad)\n",
    "\n",
    "    nn[0].weights['W'] -= 0.01 * nn[0].grads['W']\n",
    "    nn[0].weights['b'] -= 0.01 * nn[0].grads['b']\n",
    "    nn[2].weights['W'] -= 0.01 * nn[2].grads['W']\n",
    "    nn[2].weights['b'] -= 0.01 * nn[2].grads['b']   \n",
    "    \n",
    "    losses.append(loss_)"
   ]
  },
  {
   "cell_type": "code",
   "execution_count": 156,
   "metadata": {
    "ExecuteTime": {
     "end_time": "2018-02-13T10:08:17.436242Z",
     "start_time": "2018-02-13T10:08:17.155127Z"
    }
   },
   "outputs": [
    {
     "data": {
      "image/png": "[encoded data removed]",
      "text/plain": [
       "<matplotlib.figure.Figure at 0x7eff6c7a6210>"
      ]
     },
     "metadata": {},
     "output_type": "display_data"
    }
   ],
   "source": [
    "import matplotlib.pyplot as plt\n",
    "%matplotlib inline\n",
    "\n",
    "plt.plot(losses)\n",
    "plt.show()"
   ]
  },
  {
   "cell_type": "code",
   "execution_count": null,
   "metadata": {},
   "outputs": [],
   "source": []
  }
 ],
 "metadata": {
  "kernelspec": {
   "display_name": "Python [conda root]",
   "language": "python",
   "name": "conda-root-py"
  },
  "language_info": {
   "codemirror_mode": {
    "name": "ipython",
    "version": 2
   },
   "file_extension": ".py",
   "mimetype": "text/x-python",
   "name": "python",
   "nbconvert_exporter": "python",
   "pygments_lexer": "ipython2",
   "version": "2.7.11"
  }
 },
 "nbformat": 4,
 "nbformat_minor": 2
}
